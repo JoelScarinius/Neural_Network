{
 "cells": [
  {
   "cell_type": "markdown",
   "id": "ca31d406",
   "metadata": {},
   "source": [
    "# Machine Learning - Assignment 3\n",
    "\n",
    "## Artificial Neural Network"
   ]
  },
  {
   "cell_type": "markdown",
   "id": "4531893a",
   "metadata": {},
   "source": [
    "The aim of the assignment is to implement an artificial neural network (mostly) from scratch. This includes implementing or fixing the following:\n",
    "\n",
    "* Add support for additional activation functions and their derivatives.\n",
    "* Add support for loss functions and their derivative.\n",
    "* Add the use of a bias in the forward propagation.\n",
    "* Add the use of a bias in the backward propagation.\n",
    "\n",
    "In addition, you will we doing the following as well:\n",
    "\n",
    "* Test the algorithm on 3 datasets.\n",
    "* Compare neural networks with and without scaling.\n",
    "* Hyper-parameter tuning.\n",
    "\n",
    "The forward and backward propagation is made to work through a single layer, and are re-used multiple times to work for multiple layers.\n",
    "\n",
    "Follow the instructions and implement what is missing to complete the assignment. Some functions have been started to help you a little bit with the implementation.\n",
    "\n",
    "**Note:** You might need to go back and forth during your implementation of the code. The structure is set up to make implementation easier, you might find yourself going back and and forth to change something to make it easier later on."
   ]
  },
  {
   "cell_type": "markdown",
   "id": "feb200d9",
   "metadata": {},
   "source": [
    "## Assignment preparations"
   ]
  },
  {
   "cell_type": "markdown",
   "id": "802a64bd",
   "metadata": {},
   "source": [
    "We help you out with importing the libraries.\n",
    "\n",
    "**IMPORTANT NOTE:** You may not import any more libraries than the ones already imported!"
   ]
  },
  {
   "cell_type": "code",
   "execution_count": 13,
   "id": "0711fb46",
   "metadata": {},
   "outputs": [],
   "source": [
    "import numpy as np\n",
    "import pandas as pd\n",
    "import matplotlib.pyplot as plt\n",
    "\n",
    "# We set seed to better reproduce results later on.\n",
    "np.random.seed(12345)"
   ]
  },
  {
   "cell_type": "markdown",
   "id": "b1242d5e",
   "metadata": {},
   "source": [
    "## Neural Network utility functions"
   ]
  },
  {
   "cell_type": "markdown",
   "id": "a3c0c6ac",
   "metadata": {},
   "source": [
    "### 1) Activation functions\n",
    "\n",
    "Below is some setup for choosing activation function. Implement 2 additional activation functions, \"ReLU\" and one more of your choosing."
   ]
  },
  {
   "cell_type": "code",
   "execution_count": null,
   "id": "ca10df73",
   "metadata": {},
   "outputs": [],
   "source": [
    "# activations = input signal\n",
    "# Activation functions\n",
    "def activate(activations, selected_function = \"none\"):\n",
    "    y = activations\n",
    "    if selected_function == \"none\":\n",
    "        y = activations\n",
    "    elif selected_function == \"relu\":\n",
    "        # TODO: Implement the \"ReLU\" activation function\n",
    "        y = np.max(0, y)\n",
    "    elif selected_function == \"elu\":\n",
    "        # TODO: Implement another activation function activation function of your own choice.\n",
    "        if y > 0:\n",
    "            y = activations\n",
    "        else:\n",
    "            alpha = 1\n",
    "            y = (alpha*(np.exp(y)-1))\n",
    "\n",
    "    return y"
   ]
  },
  {
   "cell_type": "code",
   "execution_count": 31,
   "id": "158ebbf4",
   "metadata": {},
   "outputs": [
    {
     "name": "stdout",
     "output_type": "stream",
     "text": [
      "0.0\n"
     ]
    }
   ],
   "source": [
    "# TODO Test your activation functions, is the returning values what you expect?\n",
    "print(activate(0, selected_function=\"elu\"))"
   ]
  },
  {
   "cell_type": "markdown",
   "id": "93d7f8fa",
   "metadata": {},
   "source": [
    "### 2) Activation function derivatives\n",
    "\n",
    "Neural networks need both the activation function and its derivative. Finish the code below."
   ]
  },
  {
   "cell_type": "code",
   "execution_count": null,
   "id": "17c00420",
   "metadata": {},
   "outputs": [],
   "source": [
    "# ReLU: https://stats.stackexchange.com/questions/333394/what-is-the-derivative-of-the-relu-activation-function\n",
    "# ELU:  https://medium.com/@krishnakalyan3/introduction-to-exponential-linear-unit-d3e2904b366c\n",
    "def d_activate(activations, selected_function = \"none\"):\n",
    "    dy = 0\n",
    "    if selected_function == \"none\":\n",
    "        dy = np.ones_like(activations)\n",
    "    elif selected_function == \"relu\":\n",
    "        # TODO: Implement the \"ReLU\" derivative\n",
    "        y = activations\n",
    "        if y < 0:\n",
    "            dy = 0\n",
    "        else:\n",
    "            dy = 1\n",
    "\n",
    "    elif selected_function == \"elu\" :\n",
    "        # TODO: Implement the derivative of the activation function you chose yourself.\n",
    "        y = activations\n",
    "        if y > 0:\n",
    "            dy = 1\n",
    "        else:\n",
    "            alpha = 1\n",
    "            dy = (alpha*(np.exp(y)-1)) + alpha\n",
    "    return dy"
   ]
  },
  {
   "cell_type": "code",
   "execution_count": 5,
   "id": "3ea074e0",
   "metadata": {},
   "outputs": [],
   "source": [
    "# TODO Test your activation function derivatives, is the returning values what you expect?"
   ]
  },
  {
   "cell_type": "markdown",
   "id": "a76f72d0",
   "metadata": {},
   "source": [
    "### 3) Loss functions\n",
    "\n",
    "To penalize the network when it predicts incorrect, we need to meassure how \"bad\" the prediction is. This is done with loss-functions.\n",
    "\n",
    "Similar as with the activation functions, the loss function needs its derivative as well.\n",
    "\n",
    "Finish the MSE_loss (Mean Squared Error loss), as well as adding one additional loss function."
   ]
  },
  {
   "cell_type": "code",
   "execution_count": 54,
   "id": "4ff5b095",
   "metadata": {},
   "outputs": [
    {
     "name": "stdout",
     "output_type": "stream",
     "text": [
      "7.5\n"
     ]
    }
   ],
   "source": [
    "# This is the loss for a set of predictions y_hat compared to a set of real valyes y\n",
    "def MSE_loss(y_hat, y):\n",
    "    y_hat = np.array(y_hat)\n",
    "    y = np.array(y)\n",
    "    loss = np.mean(np.square(np.subtract(y, y_hat)))\n",
    "    return loss\n",
    "\n",
    "y_h = [2,3,4,5]\n",
    "y = [1,1,1,1]\n",
    "\n",
    "print(MSE_loss(y_h,y))\n",
    "\n",
    "# TODO: Choose another loss function and implement it\n",
    "def MAE_loss(y_hat, y):\n",
    "    y_hat = np.array(y_hat)\n",
    "    y = np.array(y)\n",
    "    loss = np.mean(np.abs(np.subtract(y, y_hat)))\n",
    "    return loss"
   ]
  },
  {
   "cell_type": "markdown",
   "id": "a965be68",
   "metadata": {},
   "source": [
    "The derivatives of the loss is with respect to the predicted value **y_hat**."
   ]
  },
  {
   "cell_type": "code",
   "execution_count": 56,
   "id": "dea0d5b6",
   "metadata": {},
   "outputs": [],
   "source": [
    "def d_MSE_loss(y_hat, y):\n",
    "    # TODO: Finish this function\n",
    "    y_hat = np.array(y_hat)\n",
    "    y = np.array(y)\n",
    "    n = len(y_hat)\n",
    "    dy = (2/n)*np.subtract(y, y_hat)\n",
    "    return dy\n",
    "\n",
    "# TODO: Choose another loss function and implement it\n",
    "def d_MAE_loss(y_hat, y):\n",
    "    # TODO: Finish this function\n",
    "    y_hat = np.array(y_hat)\n",
    "    y = np.array(y)\n",
    "    n = len(y_hat)\n",
    "    dy = (2/n)*np.subtract(y_hat, y)\n",
    "    return dy"
   ]
  },
  {
   "cell_type": "markdown",
   "id": "badfeb3b",
   "metadata": {},
   "source": [
    "### 4) Forward propagation\n",
    "\n",
    "The first \"fundamental\" function for neural networks is to be able to propagate the data forward through the neural network. We will implement this function here."
   ]
  },
  {
   "cell_type": "code",
   "execution_count": null,
   "id": "32b521f2",
   "metadata": {},
   "outputs": [],
   "source": [
    "def propagate_forward(weights, activations, bias, activation_function=\"none\"):\n",
    "    \n",
    "    # TODO: Add support for the use of bias\n",
    "\n",
    "    # Orginal \n",
    "    # dot_product = np.dot(weights, activations)\n",
    "    # new_activations = activate(dot_product, activation_function)\n",
    "    \n",
    "    dot_product = np.dot(weights, activations + bias) # Should be done by just adding the bias since its calculating pair-wise?\n",
    "    new_activations = activate(dot_product, activation_function)\n",
    "\n",
    "    return new_activations"
   ]
  },
  {
   "cell_type": "markdown",
   "id": "bb4abe8c",
   "metadata": {},
   "source": [
    "### 5) Back-propagation\n",
    "\n",
    "To be able to train a neural network, we need to be able to propagate the loss backwards and update the weights. We will implement this function here."
   ]
  },
  {
   "cell_type": "code",
   "execution_count": 60,
   "id": "83b2ad5e",
   "metadata": {},
   "outputs": [],
   "source": [
    "# Calculates the backward gradients that are passed throught the layer in the backward pass.\n",
    "# Returns both the derivative of the loss in respect to the weights and the input signal (activations).\n",
    "\n",
    "def propagate_backward(weights, activations, dl_dz, bias, activation_function=\"none\"):\n",
    "    # NOTE: dl_dz is the derivative of the loss based on the previous layers activations/outputs\n",
    "\n",
    "    # TODO: Add support for the use of bias\n",
    "\n",
    "    # Orginal \n",
    "    # dot_product = np.dot(weights, activations)\n",
    "    dot_product = np.dot(weights, activations + bias)\n",
    "\n",
    "    d_loss = d_activate(dot_product, activation_function) * dl_dz\n",
    "    d_weights = np.dot(activations.T, d_loss)\n",
    "    d_activations = np.dot(weights.T, d_loss)\n",
    "    \n",
    "    return d_weights, d_activations"
   ]
  },
  {
   "cell_type": "markdown",
   "id": "73645779",
   "metadata": {},
   "source": [
    "## Neural network implementation\n",
    "\n",
    "### 6) Fixing the neural network\n",
    "\n",
    "Below is a class implementation of a MLP neural network. This implementation is still lacking several areas that are needed for the network to be robust and function well. Your task is to improve and fix it with the following:\n",
    "\n",
    "1. Add a bias to the activation functions, and make sure the bias is also updated during training. \n",
    "2. Add a function that trains the network using minibatches (such that the neural network trains on a few samples at a time). \n",
    "3. Make use of an validation set in the training function. The model should stop training when the loss starts to increase for the validatin set. This feature should be able to be turned on and off to test the difference.\n"
   ]
  },
  {
   "cell_type": "code",
   "execution_count": null,
   "id": "c550aa37",
   "metadata": {},
   "outputs": [],
   "source": [
    "# MLP = Multi Layer Perceptron Neural Network\n",
    "class NeuralNet(object):\n",
    "    \n",
    "    # Setup all parameters and activation functions.\n",
    "    # This function runs directly when a new instance of this class is created.\n",
    "    def __init__ (self, input_dim, output_dim, neurons = []):\n",
    "\n",
    "        # NOTE: The \"neurons\" parameter is given as a list.\n",
    "        # E.g., [4, 8, 4] means 4 neurons in layer 1, 8 neurons in layer 2 etc...\n",
    "\n",
    "        # TODO: Add support for bias for each neuron in the code below.\n",
    "        \n",
    "        self.weights = [np.random.normal(0,2,(n,m)) for n,m in zip([input_dim] + neurons, neurons + [output_dim])]\n",
    "        \n",
    "        self.activation_functions = [\"relu\"] * len(neurons) + [\"none\"]\n",
    "    \n",
    "    \n",
    "    # Predict the input throught the network and calculate the output.\n",
    "    def forward(self, x):\n",
    "\n",
    "        # TODO: Add support for a bias for each neuron in the code below.\n",
    "        for layer_weights, layer_activation_function in zip(self.weights, self.activation_functions):\n",
    "            x = propagate_forward(layer_weights, x, layer_activation_function)\n",
    "            \n",
    "        return x\n",
    "    \n",
    "    \n",
    "    # Adjust the weights in the network to better fit the desired output (y), given the input (x).\n",
    "    # The weight updates are happening \"in-place\", thus we are only returning the loss from this function.\n",
    "    # Note that this function can handle a variable size of the input (x), both full datasets or smaller parts of the dataset.\n",
    "    def adjust_weights(self, x, y, learning_rate=1e-4):\n",
    "                \n",
    "        # TODO: Add support for a bias for each neuron and make sure these are learnt as well in the code below.\n",
    "\n",
    "        activation = x\n",
    "        activation_history = [] # NOTE: We need the previous (or intermediate) activations to make use of the \"chain rule\" (see lecture notes).\n",
    "        \n",
    "        for layer_weights, layer_activation_function in zip(self.weights, self.activation_functions):\n",
    "            activation_history.append(activation)\n",
    "            activation = propagate_forward(layer_weights, activation, layer_activation_function)\n",
    "           \n",
    "        # NOTE: The \"activation\" variable is changing as we go forward in the neural network.\n",
    "\n",
    "        loss = MSE_loss(activation,y)\n",
    "        d_activations = d_MSE_loss(activation,y) # NOTE: The final output can be \"seen as\" the final activations, thus the name.\n",
    "        \n",
    "        for layer_weights, layer_activation_function, previous_activations in reversed(list(zip(self.weights, self.activation_functions, activation_history))):\n",
    "\n",
    "            d_weights, d_activations = propagate_backward(layer_weights, previous_activations, d_activations, layer_activation_function)\n",
    "\n",
    "            # NOTE: Here is where the weight update is happening.\n",
    "            layer_weights -= learning_rate * d_weights\n",
    "                        \n",
    "        return loss\n",
    "    \n",
    "    \n",
    "    # A function for the training of the network.\n",
    "    def train_net(self, x, y, batch_size=32, epochs=100, learning_rate=1e-4, use_validation_data=False):\n",
    "        \n",
    "        # TODO: Add a training loop where the weights and biases of the network is learnt over several epochs.\n",
    "\n",
    "        # TODO: Add support for mini batches. That is, in each epoch the data should be split into several\n",
    "        #       smaller subsets and the model should be trained on each of these subsets one at a time.\n",
    "\n",
    "        # TODO: Implement the use of validation data, that is, splitting the training data into training data and validation data.\n",
    "        #       The validation data should be used to stop the training when the model stops to generalise and starts to overfit.\n",
    "        #       This feature should be able to be turned on and off to test the difference.\n",
    "\n",
    "        # NOTE: Make use of previously implemented functions here.\n",
    "\n",
    "        ...\n",
    "    "
   ]
  },
  {
   "cell_type": "markdown",
   "id": "00e0cc71",
   "metadata": {},
   "source": [
    "## Train Neural Networks"
   ]
  },
  {
   "cell_type": "markdown",
   "id": "bb678ea9",
   "metadata": {},
   "source": [
    "### 7) Simple test\n",
    "\n",
    "In this a very simple test for you to use and toy around with before using the datasets.\n",
    "\n",
    "Make sure to test both the **adjust_weights** function and the **train_net** function. What is the difference between the two?\n",
    "\n",
    "Also, be sure to **plot the loss for each epoch** to see how the network training is progressing!"
   ]
  },
  {
   "cell_type": "code",
   "execution_count": 11,
   "id": "3d0d3157",
   "metadata": {},
   "outputs": [
    {
     "ename": "ValueError",
     "evalue": "shapes (4,18) and (1000,4) not aligned: 18 (dim 1) != 1000 (dim 0)",
     "output_type": "error",
     "traceback": [
      "\u001b[0;31m---------------------------------------------------------------------------\u001b[0m",
      "\u001b[0;31mValueError\u001b[0m                                Traceback (most recent call last)",
      "Cell \u001b[0;32mIn[11], line 13\u001b[0m\n\u001b[1;32m      8\u001b[0m y \u001b[38;5;241m=\u001b[39m np\u001b[38;5;241m.\u001b[39mdot(x,k) \u001b[38;5;241m+\u001b[39m \u001b[38;5;241m0.1\u001b[39m \u001b[38;5;241m+\u001b[39m np\u001b[38;5;241m.\u001b[39mrandom\u001b[38;5;241m.\u001b[39mnormal(\u001b[38;5;241m0\u001b[39m,\u001b[38;5;241m0.01\u001b[39m,(n,\u001b[38;5;241m1\u001b[39m))\n\u001b[1;32m     11\u001b[0m nn \u001b[38;5;241m=\u001b[39m NeuralNet(d, \u001b[38;5;241m1\u001b[39m, [\u001b[38;5;241m18\u001b[39m, \u001b[38;5;241m12\u001b[39m])\n\u001b[0;32m---> 13\u001b[0m loss_1 \u001b[38;5;241m=\u001b[39m [\u001b[43mnn\u001b[49m\u001b[38;5;241;43m.\u001b[39;49m\u001b[43madjust_weights\u001b[49m\u001b[43m(\u001b[49m\u001b[43mx\u001b[49m\u001b[43m,\u001b[49m\u001b[43m \u001b[49m\u001b[43my\u001b[49m\u001b[43m)\u001b[49m \u001b[38;5;28;01mfor\u001b[39;00m _ \u001b[38;5;129;01min\u001b[39;00m \u001b[38;5;28mrange\u001b[39m(\u001b[38;5;241m1000\u001b[39m)] \n\u001b[1;32m     15\u001b[0m loss_2 \u001b[38;5;241m=\u001b[39m train_net(\u001b[38;5;241m.\u001b[39m\u001b[38;5;241m.\u001b[39m\u001b[38;5;241m.\u001b[39m) \u001b[38;5;66;03m# TODO: Use the train_net function to compare with the \"adjust_weights\" function.\u001b[39;00m\n\u001b[1;32m     17\u001b[0m plt\u001b[38;5;241m.\u001b[39mplot(loss_1)\n",
      "Cell \u001b[0;32mIn[10], line 40\u001b[0m, in \u001b[0;36mNeuralNet.adjust_weights\u001b[0;34m(self, x, y, learning_rate)\u001b[0m\n\u001b[1;32m     38\u001b[0m \u001b[38;5;28;01mfor\u001b[39;00m layer_weights, layer_activation_function \u001b[38;5;129;01min\u001b[39;00m \u001b[38;5;28mzip\u001b[39m(\u001b[38;5;28mself\u001b[39m\u001b[38;5;241m.\u001b[39mweights, \u001b[38;5;28mself\u001b[39m\u001b[38;5;241m.\u001b[39mactivation_functions):\n\u001b[1;32m     39\u001b[0m     activation_history\u001b[38;5;241m.\u001b[39mappend(activation)\n\u001b[0;32m---> 40\u001b[0m     activation \u001b[38;5;241m=\u001b[39m \u001b[43mpropagate_forward\u001b[49m\u001b[43m(\u001b[49m\u001b[43mlayer_weights\u001b[49m\u001b[43m,\u001b[49m\u001b[43m \u001b[49m\u001b[43mactivation\u001b[49m\u001b[43m,\u001b[49m\u001b[43m \u001b[49m\u001b[43mlayer_activation_function\u001b[49m\u001b[43m)\u001b[49m\n\u001b[1;32m     42\u001b[0m \u001b[38;5;66;03m# NOTE: The \"activation\" variable is changing as we go forward in the neural network.\u001b[39;00m\n\u001b[1;32m     44\u001b[0m loss \u001b[38;5;241m=\u001b[39m MSE_loss(activation,y)\n",
      "Cell \u001b[0;32mIn[8], line 5\u001b[0m, in \u001b[0;36mpropagate_forward\u001b[0;34m(weights, activations, bias, activation_function)\u001b[0m\n\u001b[1;32m      1\u001b[0m \u001b[38;5;28;01mdef\u001b[39;00m\u001b[38;5;250m \u001b[39m\u001b[38;5;21mpropagate_forward\u001b[39m(weights, activations, bias, activation_function\u001b[38;5;241m=\u001b[39m\u001b[38;5;124m\"\u001b[39m\u001b[38;5;124mnone\u001b[39m\u001b[38;5;124m\"\u001b[39m):\n\u001b[1;32m      2\u001b[0m     \n\u001b[1;32m      3\u001b[0m     \u001b[38;5;66;03m# TODO: Add support for the use of bias\u001b[39;00m\n\u001b[0;32m----> 5\u001b[0m     dot_product \u001b[38;5;241m=\u001b[39m \u001b[43mnp\u001b[49m\u001b[38;5;241;43m.\u001b[39;49m\u001b[43mdot\u001b[49m\u001b[43m(\u001b[49m\u001b[43mweights\u001b[49m\u001b[43m,\u001b[49m\u001b[43m \u001b[49m\u001b[43mactivations\u001b[49m\u001b[43m)\u001b[49m\n\u001b[1;32m      6\u001b[0m     new_activations \u001b[38;5;241m=\u001b[39m activate(dot_product, activation_function)\n\u001b[1;32m      7\u001b[0m     \u001b[38;5;28;01mreturn\u001b[39;00m new_activations\n",
      "\u001b[0;31mValueError\u001b[0m: shapes (4,18) and (1000,4) not aligned: 18 (dim 1) != 1000 (dim 0)"
     ]
    }
   ],
   "source": [
    "# TODO: You can change most things in this cell if you want to, we encurage it!\n",
    "\n",
    "n = 1000\n",
    "d = 4\n",
    "\n",
    "k = np.random.randint(0,10,(d,1))\n",
    "x = np.random.normal(0,1,(n,d))\n",
    "y = np.dot(x,k) + 0.1 + np.random.normal(0,0.01,(n,1))\n",
    "\n",
    "                        \n",
    "nn = NeuralNet(d, 1, [18, 12])\n",
    "\n",
    "loss_1 = [nn.adjust_weights(x, y) for _ in range(1000)] \n",
    "\n",
    "loss_2 = train_net(...) # TODO: Use the train_net function to compare with the \"adjust_weights\" function.\n",
    "\n",
    "plt.plot(loss_1)\n",
    "plt.title(\"Loss 1\")\n",
    "plt.show()\n",
    "\n",
    "plt.plot(loss_2)\n",
    "plt.title(\"Loss 2\")\n",
    "plt.show()"
   ]
  },
  {
   "cell_type": "markdown",
   "id": "ff5d17c1",
   "metadata": {},
   "source": [
    "### Real test and preprocessing\n",
    "\n",
    "When using real data and neural networks, it is very important to scale the data between smaller values, usually between 0 and 1. This is because neural networks struggle with larger values as input compared to smaller values. \n",
    "\n",
    "To test this, we will use our first dataset and test with and without scaling.\n",
    "\n",
    "Similar as with assignment 2, we will use the scikit-learn library for this preprocessing: https://scikit-learn.org/stable/modules/preprocessing.html"
   ]
  },
  {
   "cell_type": "markdown",
   "id": "0bddc1c7",
   "metadata": {},
   "source": [
    "### 8) Dataset 1: Wine - with and without scaling\n",
    "\n",
    "Wine dataset: https://archive.ics.uci.edu/dataset/109/wine\n",
    "\n",
    "Train two neural network, one with scaling and one without. Are we able to see any difference in training results or loss over time?\n",
    "\n",
    "**Note:** Do not train for to many epochs (more than maybe 50-100). The network might \"learn\" anyway in the end, but you should still be able to see a difference when training."
   ]
  },
  {
   "cell_type": "code",
   "execution_count": null,
   "id": "6154fdfe",
   "metadata": {},
   "outputs": [],
   "source": [
    "from sklearn import preprocessing\n",
    "\n",
    "data_wine = pd.read_csv(\"wine.csv\").to_numpy()\n",
    "\n",
    "# TODO: Set up the data and split it into train and test-sets.\n",
    "\n",
    "# TODO: Train and test your neural networks.\n",
    "# NOTE: Use the same train/test split for both neural network models!\n",
    "\n",
    "# TODO: Do the above at least 3 times\n",
    "# NOTE: Use loops here!\n",
    "\n",
    "# TODO: Plot the results with matplotlib (plt)\n",
    "# NOTE: One combined lineplot with the scaling and one without the scaling, 2 plots in total.\n",
    "# NOTE: Plot both the accuracy and the loss!"
   ]
  },
  {
   "cell_type": "markdown",
   "id": "5b39ab63",
   "metadata": {},
   "source": [
    "### Real data and hyper-parameter tuning\n",
    "\n",
    "Now we are going to use real data, preprocess it, and do hyper-parameter tuning.\n",
    "\n",
    "Choose two hyper-parameters to tune to try and achive an even better result.\n",
    "\n",
    "**NOTE:** Changing the number of epochs should be part of the tuning, but it does not count towards the two hyper parameters."
   ]
  },
  {
   "cell_type": "markdown",
   "id": "7f6a7c7a",
   "metadata": {},
   "source": [
    "### 9) Dataset 2: Mushroom\n",
    "\n",
    "Mushroom dataset: https://archive.ics.uci.edu/dataset/73/mushroom\n",
    "\n",
    "Note: This dataset has one feature with missing values. Remove this feature."
   ]
  },
  {
   "cell_type": "code",
   "execution_count": null,
   "id": "29a861ba",
   "metadata": {},
   "outputs": [],
   "source": [
    "data_mushroom = pd.read_csv(\"mushroom.csv\").to_numpy()\n",
    "\n",
    "# TODO: Preprocess the data.\n",
    "\n",
    "# TODO: Split the data into train and test\n",
    "\n",
    "# TODO: Train a neural network on the data\n",
    "\n",
    "# TODO: Visualize the loss for each epoch\n",
    "\n",
    "# TODO: Visulaize the test accuracy for each epoch"
   ]
  },
  {
   "cell_type": "markdown",
   "id": "1b2f363a",
   "metadata": {},
   "source": [
    "When hyper-parameter tuning, please write the parameters and network sizes you test here:\n",
    "\n",
    "* Parameter 1: \n",
    "* Parameter 2:\n",
    "\n",
    "* Neural network sizes: "
   ]
  },
  {
   "cell_type": "code",
   "execution_count": null,
   "id": "0d9e9d0e",
   "metadata": {},
   "outputs": [],
   "source": [
    "# TODO: Hyper-parameter tuning\n",
    "\n",
    "# TODO: Visualize the loss after hyper-parameter tuning for each epoch\n",
    "\n",
    "# TODO: Visulaize the test accuracy after hyper-parameter tuning for each epoch"
   ]
  },
  {
   "cell_type": "markdown",
   "id": "c8991d79",
   "metadata": {},
   "source": [
    "### 10) Dataset 3: Adult\n",
    "\n",
    "Adult dataset: https://archive.ics.uci.edu/dataset/2/adult\n",
    "\n",
    "**IMPORTANT NOTE:** This dataset is much larger than the previous two (48843 instances). If your code runs slow on your own computer, you may exclude parts of this dataset, but you must keep a minimum of 10000 datapoints."
   ]
  },
  {
   "cell_type": "code",
   "execution_count": null,
   "id": "80862998",
   "metadata": {},
   "outputs": [],
   "source": [
    "dataset_3 = pd.read(...) # TODO: Read the data.\n",
    "\n",
    "# TODO: Preprocess the data.\n",
    "\n",
    "# TODO: Split the data into train and test\n",
    "\n",
    "# TODO: Train a neural network on the data\n",
    "\n",
    "# TODO: Visualize the loss for each epoch\n",
    "\n",
    "# TODO: Visulaize the test accuracy for each epoch"
   ]
  },
  {
   "cell_type": "markdown",
   "id": "6a9bd1ff",
   "metadata": {},
   "source": [
    "When hyper-parameter tuning, please write the parameters and network sizes you test here:\n",
    "\n",
    "* Parameter 1: \n",
    "* Parameter 2:\n",
    "\n",
    "* Neural network sizes: "
   ]
  },
  {
   "cell_type": "code",
   "execution_count": null,
   "id": "ec5229f0",
   "metadata": {},
   "outputs": [],
   "source": [
    "# TODO: Hyper-parameter tuning\n",
    "\n",
    "# TODO: Visualize the loss after hyper-parameter tuning for each epoch\n",
    "\n",
    "# TODO: Visulaize the test accuracy after hyper-parameter tuning for each epoch"
   ]
  },
  {
   "cell_type": "markdown",
   "id": "9df892ad",
   "metadata": {},
   "source": [
    "# Questions for examination:\n",
    "\n",
    "In addition to completing the assignment with all its tasks, you should also prepare to answer the following questions:\n",
    "\n",
    "1) Why would we want to use different activation functions?\n",
    "\n",
    "2) Why would we want to use different loss functions?\n",
    "\n",
    "3) Why are neural networks sensitive to large input values?\n",
    "\n",
    "4) What is the role of the bias? \n",
    "\n",
    "5) What is the purpose of hyper-parameter tuning?\n",
    "\n",
    "6) A small example neural network will be shown during the oral examination. You will be asked a few basic questions related to the number of weights, biases, inputs and outputs."
   ]
  },
  {
   "cell_type": "markdown",
   "id": "671cf459",
   "metadata": {},
   "source": [
    "# Finished!\n",
    "\n",
    "Was part of the setup incorrect? Did you spot any inconsistencies in the assignment? Could something improve?\n",
    "\n",
    "If so, please write them and send via email and send it to:\n",
    "\n",
    "* marcus.gullstrand@ju.se\n",
    "\n",
    "Thank you!"
   ]
  }
 ],
 "metadata": {
  "kernelspec": {
   "display_name": "Python 3",
   "language": "python",
   "name": "python3"
  },
  "language_info": {
   "codemirror_mode": {
    "name": "ipython",
    "version": 3
   },
   "file_extension": ".py",
   "mimetype": "text/x-python",
   "name": "python",
   "nbconvert_exporter": "python",
   "pygments_lexer": "ipython3",
   "version": "3.12.1"
  }
 },
 "nbformat": 4,
 "nbformat_minor": 5
}
